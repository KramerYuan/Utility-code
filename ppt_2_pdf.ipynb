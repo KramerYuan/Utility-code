{
 "cells": [
  {
   "cell_type": "code",
   "execution_count": 1,
   "metadata": {},
   "outputs": [],
   "source": [
    "import os\n",
    "import glob\n",
    "from win32com.client import gencache"
   ]
  },
  {
   "cell_type": "code",
   "execution_count": 2,
   "metadata": {},
   "outputs": [],
   "source": [
    "# 获取当前文件夹下的所有.ppt/.pptx格式文件\n",
    "file_path = os.path.split(os.path.abspath(\"./PPT\"))[0]\n",
    "pp_files = glob.glob(os.path.join(file_path, \"*.ppt*\"))"
   ]
  },
  {
   "cell_type": "code",
   "execution_count": 3,
   "metadata": {},
   "outputs": [],
   "source": [
    "def ppt_to_pdf(filename, results):\n",
    "    \"\"\"\n",
    "    实现.ppt和.pptx到.pdf的文件转换\n",
    "    \"\"\"\n",
    "    name = os.path.basename(filename).split(\".\")[0] + \".pdf\"\n",
    "    exportfile = os.path.join(results, name)\n",
    "    if os.path.isfile(exportfile):\n",
    "        print(name, \"已经转换成功\")\n",
    "        return\n",
    "    p = gencache.EnsureDispatch(\"PowerPoint.Application\")\n",
    "    try:\n",
    "        ppt = p.Presentations.Open(filename, False, False, False)\n",
    "    except Exception as e:\n",
    "        print(os.path.split(filename)[1], \"转换失败，失败原因：%s\" %e)\n",
    "    ppt.ExportAsFixedFormat(exportfile, 2, PrintRange=None)\n",
    "    print(\"保存PDF文件：\", exportfile)\n",
    "    p.Quit()"
   ]
  },
  {
   "cell_type": "code",
   "execution_count": 4,
   "metadata": {},
   "outputs": [],
   "source": [
    "results = os.path.join(file_path, \"results\")"
   ]
  },
  {
   "cell_type": "code",
   "execution_count": 5,
   "metadata": {},
   "outputs": [
    {
     "name": "stdout",
     "output_type": "stream",
     "text": [
      "第2章 灰色数据预处理.pdf 已经转换成功\n",
      "第3章 齐次指数序列灰色预测模型.pdf 已经转换成功\n",
      "第4章 非齐次指数序列灰色预测模型.pdf 已经转换成功\n",
      "第5章 饱和状S形序列灰色预测模型.pdf 已经转换成功\n",
      "第6章 多变量灰色预测模型.pdf 已经转换成功\n",
      "第7章 特殊序列灰色预测模型.pdf 已经转换成功\n",
      "第8章 灰色预测模型优化方法.pdf 已经转换成功\n",
      "第9章 灰色预测模型的MATLAB实现.pdf 已经转换成功\n"
     ]
    }
   ],
   "source": [
    "if not os.path.exists(results):\n",
    "    os.mkdir(os.path.join(results))\n",
    "for _ in pp_files:\n",
    "    ppt_to_pdf(_, results)"
   ]
  },
  {
   "cell_type": "code",
   "execution_count": null,
   "metadata": {},
   "outputs": [],
   "source": []
  }
 ],
 "metadata": {
  "kernelspec": {
   "display_name": "Python 3",
   "language": "python",
   "name": "python3"
  },
  "language_info": {
   "codemirror_mode": {
    "name": "ipython",
    "version": 3
   },
   "file_extension": ".py",
   "mimetype": "text/x-python",
   "name": "python",
   "nbconvert_exporter": "python",
   "pygments_lexer": "ipython3",
   "version": "3.7.6"
  }
 },
 "nbformat": 4,
 "nbformat_minor": 4
}
